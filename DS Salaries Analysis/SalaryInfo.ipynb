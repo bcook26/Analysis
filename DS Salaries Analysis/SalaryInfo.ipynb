{
 "cells": [
  {
   "cell_type": "markdown",
   "metadata": {},
   "source": [
    "# Importing Libraries and Dependencies"
   ]
  },
  {
   "cell_type": "code",
   "execution_count": null,
   "metadata": {},
   "outputs": [],
   "source": [
    "import pandas as pd\n",
    "import numpy as np\n",
    "import matplotlib.pyplot as plt\n",
    "import plotly.express as px \n",
    "import plotly.graph_objects as go\n",
    "import plotly.figure_factory as ff\n",
    "import country_converter as coco\n",
    "\n",
    "%matplotlib inline"
   ]
  },
  {
   "cell_type": "markdown",
   "metadata": {},
   "source": [
    "# Loading Salary Data"
   ]
  },
  {
   "cell_type": "code",
   "execution_count": null,
   "metadata": {},
   "outputs": [],
   "source": [
    "salary_df = pd.read_csv('ds_salaries.csv')\n",
    "salary_df = salary_df.drop(columns = ['Unnamed: 0', 'salary_currency', 'salary', 'remote_ratio'],axis = 1)\n",
    "salary_df = salary_df.loc[salary_df['employment_type'] == 'FT'].copy()\n",
    "\n",
    "# strip column whitespace \n",
    "salary_df.columns = salary_df.columns.str.replace(' ', '')\n",
    "salary_df\n",
    "\n",
    "# 50 different job titles\n",
    "# dropped 22 values so we only consider FT employees"
   ]
  },
  {
   "cell_type": "code",
   "execution_count": null,
   "metadata": {},
   "outputs": [],
   "source": [
    "# formatting columns slightly to make it easier to interpret\n",
    "exp_level = {'SE': 'Senior', 'MI': 'Mid', 'EN': 'Entry', 'EX': 'Executive'}\n",
    "comp_size = {'L': 'Large', 'M': 'Medium', 'S': 'Small'}\n",
    "\n",
    "salary_df['company_size'] = salary_df['company_size'].astype(str)\n",
    "salary_df['experience_level'] = salary_df['experience_level'].astype(str)\n",
    "\n",
    "salary_df['company_size'] = salary_df['company_size'].map(comp_size)\n",
    "salary_df['experience_level'] = salary_df['experience_level'].map(exp_level)\n",
    "salary_df\n"
   ]
  },
  {
   "cell_type": "code",
   "execution_count": null,
   "metadata": {},
   "outputs": [],
   "source": [
    "# convert residence/company location to ISO3 values to make them easier to read and plot\n",
    "country_conversion = coco.convert(names = salary_df['employee_residence'], to = \"ISO3\")\n",
    "salary_df['employee_residence'] = country_conversion\n",
    "country_conversion1 = coco.convert(names = salary_df['company_location'], to = \"ISO3\")\n",
    "salary_df['company_location'] = country_conversion1\n",
    "salary_df"
   ]
  },
  {
   "cell_type": "markdown",
   "metadata": {},
   "source": [
    "# Distribution of Work Years \n",
    "- over half of the data is from 2022, with second highest being 2021, and finally the lowest pct in 2020"
   ]
  },
  {
   "cell_type": "code",
   "execution_count": null,
   "metadata": {},
   "outputs": [],
   "source": [
    "\n",
    "work_year = salary_df['work_year'].value_counts()\n",
    "\n",
    "fig = px.pie(values = work_year.values, \n",
    "             names = work_year.index,\n",
    "             color_discrete_sequence = px.colors.sequential.matter_r, \n",
    "             title = 'Work Year Distribution', \n",
    "             template = 'plotly_dark')\n",
    "\n",
    "fig.update_traces(textinfo = 'label+percent+value', textfont_size = 17, \n",
    "                  marker = dict(line = dict(color = '#100000', width = 0.2)))\n",
    "\n",
    "fig.data[0].marker.line.width = 2\n",
    "fig.data[0].marker.line.color = 'black'\n",
    "fig.update_layout(\n",
    "    font = dict(size = 18, family = \"Franklin Gothic\"))\n",
    "\n",
    "fig.show()"
   ]
  },
  {
   "cell_type": "markdown",
   "metadata": {},
   "source": [
    "<img src=\"images/workyeardistribution.png\">"
   ]
  },
  {
   "cell_type": "markdown",
   "metadata": {},
   "source": [
    "# Distribution of Experience Level\n",
    "- included both total count and percentage of whole workforce"
   ]
  },
  {
   "cell_type": "code",
   "execution_count": null,
   "metadata": {},
   "outputs": [],
   "source": [
    "experience_level = salary_df['experience_level'].value_counts()\n",
    "\n",
    "fig = px.pie(values = experience_level.values, \n",
    "             names = experience_level.index,\n",
    "             color_discrete_sequence = px.colors.sequential.matter_r, \n",
    "             title = 'Work Level Distribution', \n",
    "             template = 'plotly_dark')\n",
    "\n",
    "fig.update_traces(textinfo = 'label+percent+value', textfont_size = 17, \n",
    "                  marker = dict(line = dict(color = '#100000', width = 0.2)))\n",
    "\n",
    "fig.data[0].marker.line.width = 2\n",
    "fig.data[0].marker.line.color = 'black'\n",
    "fig.update_layout(\n",
    "    font = dict(size = 18, family = \"Franklin Gothic\"))\n",
    "\n",
    "fig.show()"
   ]
  },
  {
   "cell_type": "markdown",
   "metadata": {},
   "source": [
    "<img src=\"images/workleveldistribution.png\">"
   ]
  },
  {
   "cell_type": "code",
   "execution_count": null,
   "metadata": {},
   "outputs": [],
   "source": [
    "df_mean = salary_df.groupby('company_location')[['salary_in_usd']].mean().sort_values('salary_in_usd', ascending = False,).head(10)\n",
    "\n",
    "fig = px.bar(df_mean,\n",
    "             x = df_mean.index,\n",
    "             y = df_mean['salary_in_usd'],\n",
    "             title = \"Top 10 Salaried Locations and Avg Salary\",\n",
    "             template = 'plotly_dark')\n",
    "\n",
    "fig.update_layout(\n",
    "    xaxis_title = \"Company Location\", \n",
    "    yaxis_title = \"Salary\",\n",
    "    font = dict(size = 15, family = \"Franklin Gothic\"))\n",
    "fig.show()"
   ]
  },
  {
   "cell_type": "markdown",
   "metadata": {},
   "source": [
    "<img src=\"images/top10salariedlocations.png\">"
   ]
  },
  {
   "cell_type": "code",
   "execution_count": null,
   "metadata": {},
   "outputs": [],
   "source": [
    "hist_data = [salary_df['salary_in_usd']] \n",
    "group_labels = ['salary_in_usd']\n",
    "\n",
    "fig = ff.create_distplot(hist_data, group_labels, show_hist = False)\n",
    "fig.layout.template = 'plotly_dark'\n",
    "fig.update_layout(title='Salary in USD (DistPlot)', font = dict(size=17, family=\"Franklin Gothic\")) \n",
    "fig.show()\n",
    "\n",
    "# As we can tell from the dist plot, most of the salaries fall between 75-150k"
   ]
  },
  {
   "cell_type": "markdown",
   "metadata": {},
   "source": [
    "<img src=\"images/salarydistplot.png\">"
   ]
  },
  {
   "cell_type": "markdown",
   "metadata": {},
   "source": []
  },
  {
   "cell_type": "code",
   "execution_count": null,
   "metadata": {},
   "outputs": [],
   "source": [
    "# based on this there doesn't seem to be much of a tradeoff between working at a medium vs large company in terms of salary\n",
    "# the smaller companies average much lower salaries which makes sense\n",
    "grouped_companies = salary_df.groupby('company_size')[['salary_in_usd']].mean().sort_values('salary_in_usd')\n",
    "\n",
    "fig = px.bar(grouped_companies, x = grouped_companies.index, y = grouped_companies['salary_in_usd'], title = 'Avg Salary vs Different Sized Companies',\n",
    "            labels = {\n",
    "                \"salary_in_usd\": \"Salary ($USD)\",\n",
    "                \"company_size\": \"Company Size\"\n",
    "            })\n",
    "fig.update_traces(width = 0.3)\n",
    "fig.show()"
   ]
  },
  {
   "cell_type": "markdown",
   "metadata": {},
   "source": [
    "<img src=\"images/salaryvscompanysize.png\">"
   ]
  },
  {
   "cell_type": "code",
   "execution_count": null,
   "metadata": {},
   "outputs": [],
   "source": [
    "# some of the most lucrative careers based on title (top 10)\n",
    "job_grouped = salary_df.groupby('job_title')[['salary_in_usd']].mean().sort_values('salary_in_usd', ascending = False)[:10]\n",
    "highest_paid = job_grouped.sort_values('salary_in_usd', ascending = False)"
   ]
  },
  {
   "cell_type": "code",
   "execution_count": null,
   "metadata": {},
   "outputs": [],
   "source": [
    "# now we will look at the most popular job titles based on frequency in the dataset \n",
    "top_10_jobs = salary_df['job_title'].value_counts()[:10]\n",
    "fig = px.bar(y = top_10_jobs.values, \n",
    "    x = top_10_jobs.index, \n",
    "    color = top_10_jobs.index, \n",
    "    text = top_10_jobs.values, \n",
    "    title = 'Top 10 Job Titles',\n",
    "    template = 'plotly_dark')\n",
    "\n",
    "fig.update_layout( \n",
    "    xaxis_title = 'Job Titles', \n",
    "    yaxis_title = 'Count',\n",
    "    font = dict(size = 15, family = \"Franklin Gothic\"))\n",
    "\n",
    "fig.show()"
   ]
  },
  {
   "cell_type": "markdown",
   "metadata": {},
   "source": [
    "<img src=\"images/top10jobs.png\">"
   ]
  },
  {
   "cell_type": "code",
   "execution_count": null,
   "metadata": {},
   "outputs": [],
   "source": [
    "# density map - shows location of employee residences\n",
    "residence = salary_df['employee_residence'].value_counts()\n",
    "\n",
    "fig = px.choropleth(locations = residence.index, \n",
    "                    color = residence.values, \n",
    "                    color_continuous_scale = px.colors.sequential.YlGnBu, \n",
    "                    template = 'plotly_dark', \n",
    "                    title = 'Employee Location Distribution Map')\n",
    "\n",
    "fig.update_layout(font = dict(size = 15, family = \"Franklin Gothic\"))\n",
    "fig.show()"
   ]
  },
  {
   "cell_type": "markdown",
   "metadata": {},
   "source": [
    "<img src=\"images/Emplocationdist.png\">"
   ]
  },
  {
   "cell_type": "markdown",
   "metadata": {},
   "source": [
    "# Top 10 Employee Locations\n",
    "- depicts density of workforce based on employee residence\n",
    "- vast majority of the workforce in the dataset is concentrated in USA"
   ]
  },
  {
   "cell_type": "code",
   "execution_count": null,
   "metadata": {},
   "outputs": [],
   "source": [
    "top_10_location = residence[:10] \n",
    "\n",
    "fig = px.bar(y = top_10_location.values, \n",
    "             x = top_10_location.index, \n",
    "             color = top_10_location.index, \n",
    "             color_discrete_sequence = px.colors.sequential.deep, \n",
    "             title = 'Top 10 Employee Locations', \n",
    "             template = 'plotly_dark')\n",
    "\n",
    "fig.update_layout(\n",
    "\n",
    "    xaxis_title = \"Employee Location\", \n",
    "    yaxis_title = \"Count\", \n",
    "    font = dict(size = 15, family = \"Franklin Gothic\"))\n",
    "\n",
    "fig.show()"
   ]
  },
  {
   "cell_type": "markdown",
   "metadata": {},
   "source": [
    "<img src=\"images/top10emplocations.png\">"
   ]
  },
  {
   "cell_type": "markdown",
   "metadata": {},
   "source": []
  }
 ],
 "metadata": {
  "kernelspec": {
   "display_name": "Python 3.10.5 64-bit",
   "language": "python",
   "name": "python3"
  },
  "language_info": {
   "codemirror_mode": {
    "name": "ipython",
    "version": 3
   },
   "file_extension": ".py",
   "mimetype": "text/x-python",
   "name": "python",
   "nbconvert_exporter": "python",
   "pygments_lexer": "ipython3",
   "version": "3.10.5"
  },
  "orig_nbformat": 4,
  "vscode": {
   "interpreter": {
    "hash": "aee8b7b246df8f9039afb4144a1f6fd8d2ca17a180786b69acc140d282b71a49"
   }
  }
 },
 "nbformat": 4,
 "nbformat_minor": 2
}
