{
 "cells": [
  {
   "cell_type": "markdown",
   "metadata": {},
   "source": [
    "# Importing  Libraries\n",
    "- requests is used for interacting with the site \n",
    "- Beautiful soup used to grab data and make it easier to work with\n",
    "- time used to set when we want to scrape/how often\n",
    "- datetime necessary for working with date data\n",
    "- pandas used for working with csv file and creating dataframes\n",
    "- smtplib used in order to send an email when price drops below chosen threshold\n",
    "- csv used for working with the csv file and making edits"
   ]
  },
  {
   "cell_type": "code",
   "execution_count": 43,
   "metadata": {},
   "outputs": [],
   "source": [
    "from bs4 import BeautifulSoup\n",
    "import requests\n",
    "import time\n",
    "import datetime\n",
    "import pandas as pd\n",
    "import smtplib"
   ]
  },
  {
   "cell_type": "code",
   "execution_count": 33,
   "metadata": {},
   "outputs": [
    {
     "name": "stdout",
     "output_type": "stream",
     "text": [
      "\n",
      "                   Funny Got Data MIS Data Systems Business Analyst T-Shirt\n",
      "                  \n",
      "\n",
      "                  $16.99\n",
      "                 \n",
      "\n",
      "                       4.8 out of 5 stars\n",
      "                      \n"
     ]
    }
   ],
   "source": [
    "# Establish Connection to Website\n",
    "URL = 'https://www.amazon.com/Funny-Data-Systems-Business-Analyst/dp/B07FNW9FGJ/ref=sr_1_2?crid=3DUHZFM9WEWWV&keywords=got+data+tshirt&qid=1667407696&qu=eyJxc2MiOiIyLjUxIiwicXNhIjoiMi4xMyIsInFzcCI6IjEuNTAifQ%3D%3D&sprefix=got+data+tshirt%2Caps%2C105&sr=8-2'\n",
    "\n",
    "headers = {\"User-Agent\": \"Mozilla/5.0 (Macintosh; Intel Mac OS X 10_15_7) AppleWebKit/537.36 (KHTML, like Gecko) Chrome/107.0.0.0 Safari/537.36\",\"Accept-Encoding\": \"gzip, deflate\", \"Accept\": \"text/html,application/xhtml+xml,application/xml;q=0.9,image/avif,image/webp,image/apng,*/*;q=0.8,application/signed-exchange;v=b3;q=0.9\", \"DNT\":\"1\",\"Connection\":\"Close\",\"Upgrade-Insecure-Requests\": \"1\"}\n",
    "\n",
    "page = requests.get(URL, headers = headers)\n",
    "\n",
    "soup1 = BeautifulSoup(page.content, \"html.parser\")\n",
    "\n",
    "soup2 = BeautifulSoup(soup1.prettify(), \"html.parser\")\n",
    "\n",
    "title = soup2.find(id = 'productTitle').get_text()\n",
    "price = soup2.find(\"span\", {'class': 'a-offscreen'}).get_text()\n",
    "rating = soup2.find(\"span\", {'class': 'a-icon-alt'}).get_text()\n",
    "\n",
    "print(title)\n",
    "print(price)\n",
    "print(rating)"
   ]
  },
  {
   "cell_type": "code",
   "execution_count": 34,
   "metadata": {},
   "outputs": [],
   "source": [
    "# removing whitespace from values\n",
    "title = title.strip()\n",
    "price = price.strip()[1:]\n",
    "rating = rating.strip()\n"
   ]
  },
  {
   "cell_type": "code",
   "execution_count": 35,
   "metadata": {},
   "outputs": [
    {
     "name": "stdout",
     "output_type": "stream",
     "text": [
      "Funny Got Data MIS Data Systems Business Analyst T-Shirt\n",
      "16.99\n",
      "4.8 out of 5 stars\n"
     ]
    }
   ],
   "source": [
    "# new title, price, and rating with removed whitespace\n",
    "print(title) \n",
    "print(price)\n",
    "print(rating)"
   ]
  },
  {
   "cell_type": "code",
   "execution_count": 40,
   "metadata": {},
   "outputs": [
    {
     "name": "stdout",
     "output_type": "stream",
     "text": [
      "2022-11-02\n"
     ]
    }
   ],
   "source": [
    "# grabbing todays date\n",
    "import datetime as dt\n",
    "\n",
    "today = dt.date.today()\n",
    "print(today)"
   ]
  },
  {
   "cell_type": "code",
   "execution_count": 41,
   "metadata": {},
   "outputs": [],
   "source": [
    "import csv\n",
    "\n",
    "header = ['ProductTitle', 'Price', 'Rating', 'Date']\n",
    "data = [title, price, rating, today]\n",
    "\n",
    "# creating a new csv to hold the data scraped from site\n",
    "with open('AmazonWebScraperDataset.csv', 'w', newline = '', encoding = 'UTF-8') as f:\n",
    "    writer = csv.writer(f)\n",
    "    writer.writerow(header)\n",
    "    writer.writerow(data)"
   ]
  },
  {
   "cell_type": "code",
   "execution_count": 45,
   "metadata": {},
   "outputs": [
    {
     "data": {
      "text/html": [
       "<div>\n",
       "<style scoped>\n",
       "    .dataframe tbody tr th:only-of-type {\n",
       "        vertical-align: middle;\n",
       "    }\n",
       "\n",
       "    .dataframe tbody tr th {\n",
       "        vertical-align: top;\n",
       "    }\n",
       "\n",
       "    .dataframe thead th {\n",
       "        text-align: right;\n",
       "    }\n",
       "</style>\n",
       "<table border=\"1\" class=\"dataframe\">\n",
       "  <thead>\n",
       "    <tr style=\"text-align: right;\">\n",
       "      <th></th>\n",
       "      <th>ProductTitle</th>\n",
       "      <th>Price</th>\n",
       "      <th>Rating</th>\n",
       "      <th>Date</th>\n",
       "    </tr>\n",
       "  </thead>\n",
       "  <tbody>\n",
       "    <tr>\n",
       "      <th>0</th>\n",
       "      <td>Funny Got Data MIS Data Systems Business Analy...</td>\n",
       "      <td>16.99</td>\n",
       "      <td>4.8 out of 5 stars</td>\n",
       "      <td>2022-11-02</td>\n",
       "    </tr>\n",
       "  </tbody>\n",
       "</table>\n",
       "</div>"
      ],
      "text/plain": [
       "                                        ProductTitle  Price  \\\n",
       "0  Funny Got Data MIS Data Systems Business Analy...  16.99   \n",
       "\n",
       "               Rating        Date  \n",
       "0  4.8 out of 5 stars  2022-11-02  "
      ]
     },
     "execution_count": 45,
     "metadata": {},
     "output_type": "execute_result"
    }
   ],
   "source": [
    "df = pd.read_csv('AmazonWebScraperDataset.csv', encoding = 'UTF-8')\n",
    "df"
   ]
  },
  {
   "cell_type": "code",
   "execution_count": null,
   "metadata": {},
   "outputs": [],
   "source": [
    "# using the same syntax to append data to the csv file\n",
    "with open('AmazonWebScraperDataset.csv', 'a+', newline = '', encoding = 'UTF-8') as f:\n",
    "    writer = csv.writer(f)\n",
    "    writer.writerow(data)\n"
   ]
  },
  {
   "cell_type": "markdown",
   "metadata": {},
   "source": [
    "# Send email if price drops to acceptable level"
   ]
  },
  {
   "cell_type": "code",
   "execution_count": null,
   "metadata": {},
   "outputs": [],
   "source": [
    "min_buy_price = 14\n",
    "\n",
    "def send_email(): \n",
    "    server = smtplib.SMTP_SSL('smtp.gmail.com', 465)\n",
    "    server.ehlo()\n",
    "    #server.starttls()\n",
    "    server.ehlo()\n",
    "    server.login('Brycecook2018@gmail.com', 'xxxxxxxxxxxx')\n",
    "\n",
    "    subject = f\"The {title} I wanted dropped below $14\"\n",
    "    body = \"Bryce, we've been waiting for this product to drop below the chosen threshold price. Go ahead and pick up the product!\"\n",
    "\n",
    "    msg = f\"Subject: {subject}\\n\\n{body}\"\n",
    "\n",
    "    server.sendmail(\n",
    "        'Brycecook2018@gmail.com', \n",
    "        msg\n",
    "    )\n",
    "    \n",
    "if (price < min_buy_price):\n",
    "        send_email()"
   ]
  },
  {
   "cell_type": "markdown",
   "metadata": {},
   "source": [
    "# Combining Above Steps Into Function"
   ]
  },
  {
   "cell_type": "code",
   "execution_count": 1,
   "metadata": {},
   "outputs": [],
   "source": [
    "# price check function can be adapted to many other products on Amazon. \n",
    "# You can even use another website to check completely different products if you wanted\n",
    "\n",
    "def price_check(): \n",
    "    URL = 'https://www.amazon.com/Funny-Data-Systems-Business-Analyst/dp/B07FNW9FGJ/ref=sr_1_2?crid=3DUHZFM9WEWWV&keywords=got+data+tshirt&qid=1667407696&qu=eyJxc2MiOiIyLjUxIiwicXNhIjoiMi4xMyIsInFzcCI6IjEuNTAifQ%3D%3D&sprefix=got+data+tshirt%2Caps%2C105&sr=8-2'\n",
    "\n",
    "    headers = {\"User-Agent\": \"Mozilla/5.0 (Macintosh; Intel Mac OS X 10_15_7) AppleWebKit/537.36 (KHTML, like Gecko) Chrome/107.0.0.0 Safari/537.36\",\"Accept-Encoding\": \"gzip, deflate\", \"Accept\": \"text/html,application/xhtml+xml,application/xml;q=0.9,image/avif,image/webp,image/apng,*/*;q=0.8,application/signed-exchange;v=b3;q=0.9\", \"DNT\":\"1\",\"Connection\":\"Close\",\"Upgrade-Insecure-Requests\": \"1\"}\n",
    "\n",
    "    page = requests.get(URL, headers = headers)\n",
    "\n",
    "    soup1 = BeautifulSoup(page.content, \"html.parser\")\n",
    "\n",
    "    soup2 = BeautifulSoup(soup1.prettify(), \"html.parser\")\n",
    "\n",
    "    title = soup2.find(id = 'productTitle').get_text()\n",
    "    price = soup2.find(\"span\", {'class': 'a-offscreen'}).get_text()\n",
    "    rating = soup2.find(\"span\", {'class': 'a-icon-alt'}).get_text()\n",
    "\n",
    "    title = title.strip()\n",
    "    price = price.strip()[1:]\n",
    "    rating = rating.strip()\n",
    "\n",
    "    import datetime as dt\n",
    "\n",
    "    today = dt.date.today()\n",
    "\n",
    "    import csv\n",
    "\n",
    "    header = ['ProductTitle', 'Price', 'Rating', 'Date']\n",
    "    data = [title, price, rating, today]\n",
    "\n",
    "    with open('AmazonWebScraperDataset.csv', 'a+', newline = '', encoding = 'UTF-8') as f:\n",
    "        writer = csv.writer(f)\n",
    "        writer.writerow(data)\n",
    "\n",
    "    if (price < min_buy_price):\n",
    "        send_email()"
   ]
  },
  {
   "cell_type": "markdown",
   "metadata": {},
   "source": [
    "## While(True) - sets how often we request the data from the website"
   ]
  },
  {
   "cell_type": "code",
   "execution_count": 48,
   "metadata": {},
   "outputs": [],
   "source": [
    "# here i've chosen to check daily, but you can change the number of seconds to check more or less frequently\n",
    "while(True): \n",
    "    price_check()\n",
    "    time.sleep(86400)"
   ]
  }
 ],
 "metadata": {
  "kernelspec": {
   "display_name": "Python 3.10.5 64-bit",
   "language": "python",
   "name": "python3"
  },
  "language_info": {
   "codemirror_mode": {
    "name": "ipython",
    "version": 3
   },
   "file_extension": ".py",
   "mimetype": "text/x-python",
   "name": "python",
   "nbconvert_exporter": "python",
   "pygments_lexer": "ipython3",
   "version": "3.10.5"
  },
  "orig_nbformat": 4,
  "vscode": {
   "interpreter": {
    "hash": "aee8b7b246df8f9039afb4144a1f6fd8d2ca17a180786b69acc140d282b71a49"
   }
  }
 },
 "nbformat": 4,
 "nbformat_minor": 2
}
